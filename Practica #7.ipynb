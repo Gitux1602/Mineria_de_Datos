{
 "cells": [
  {
   "cell_type": "code",
   "execution_count": 25,
   "id": "26289df7",
   "metadata": {
    "scrolled": true
   },
   "outputs": [
    {
     "name": "stdout",
     "output_type": "stream",
     "text": [
      "Ingresa el nombre del primer equipo: Lanus\n",
      "Ingresa el nombre del segundo equipo: Belgrano\n",
      "Exactitud (Accuracy): 1.0\n",
      "Reporte de Clasificación:\n",
      "              precision    recall  f1-score   support\n",
      "\n",
      "           1       1.00      1.00      1.00         1\n",
      "\n",
      "    accuracy                           1.00         1\n",
      "   macro avg       1.00      1.00      1.00         1\n",
      "weighted avg       1.00      1.00      1.00         1\n",
      "\n"
     ]
    }
   ],
   "source": [
    "import pandas as pd\n",
    "from sklearn.model_selection import train_test_split\n",
    "from sklearn.ensemble import RandomForestClassifier\n",
    "from sklearn.metrics import classification_report, accuracy_score\n",
    "\n",
    "# Cargar los datos desde el archivo CSV\n",
    "url = 'https://www.football-data.co.uk/new/ARG.csv'\n",
    "df = pd.read_csv(url)\n",
    "\n",
    "# Pide al usuario que ingrese los nombres de los equipos de interés\n",
    "team1 = input(\"Ingresa el nombre del primer equipo: \")\n",
    "team2 = input(\"Ingresa el nombre del segundo equipo: \")\n",
    "\n",
    "# Filtra los datos para los equipos seleccionados\n",
    "filtered_data = df[(df['Home'] == team1) & (df['Away'] == team2)].copy()  # Agregar .copy() para evitar la advertencia\n",
    "\n",
    "# Verifica si hay datos disponibles para el análisis\n",
    "if not filtered_data.empty:\n",
    "    # Agregar una variable dummy para representar el resultado como 0 (D), 1 (H), o 2 (A)\n",
    "    filtered_data.loc[:, 'Result'] = filtered_data['Res'].map({'H': 1, 'D': 0, 'A': 2})\n",
    "\n",
    "    # Definir las variables independientes (X) y dependiente (y)\n",
    "    X = filtered_data[['HG', 'AG']]\n",
    "    y = filtered_data['Result']\n",
    "\n",
    "    # Dividir los datos en conjuntos de entrenamiento y prueba\n",
    "    X_train, X_test, y_train, y_test = train_test_split(X, y, test_size=0.2, random_state=42)\n",
    "\n",
    "    # Crear un modelo Random Forest\n",
    "    model = RandomForestClassifier(n_estimators=100, random_state=42)\n",
    "\n",
    "    # Entrenar el modelo\n",
    "    model.fit(X_train, y_train)\n",
    "\n",
    "    # Realizar predicciones en el conjunto de prueba\n",
    "    y_pred = model.predict(X_test)\n",
    "\n",
    "    # Evaluar el rendimiento del modelo\n",
    "    accuracy = accuracy_score(y_test, y_pred)\n",
    "    report = classification_report(y_test, y_pred, zero_division=1)\n",
    "\n",
    "    print(f'Exactitud (Accuracy): {accuracy}')\n",
    "    print('Reporte de Clasificación:')\n",
    "    print(report)\n",
    "else:\n",
    "    print(f\"No se encontraron partidos entre {team1} y {team2}.\")"
   ]
  },
  {
   "cell_type": "code",
   "execution_count": null,
   "id": "142c71d8",
   "metadata": {},
   "outputs": [],
   "source": []
  }
 ],
 "metadata": {
  "kernelspec": {
   "display_name": "Python 3 (ipykernel)",
   "language": "python",
   "name": "python3"
  },
  "language_info": {
   "codemirror_mode": {
    "name": "ipython",
    "version": 3
   },
   "file_extension": ".py",
   "mimetype": "text/x-python",
   "name": "python",
   "nbconvert_exporter": "python",
   "pygments_lexer": "ipython3",
   "version": "3.11.4"
  }
 },
 "nbformat": 4,
 "nbformat_minor": 5
}
