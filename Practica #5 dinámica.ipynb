{
 "cells": [
  {
   "cell_type": "code",
   "execution_count": 4,
   "id": "cb2529a2",
   "metadata": {},
   "outputs": [
    {
     "name": "stdout",
     "output_type": "stream",
     "text": [
      "Ingresa los nombres de los equipos separados por comas: Quilmes, All Boys\n",
      "Estadística F: 1.6470447896368525\n",
      "Valor p: 0.17913375597836861\n",
      "No hay diferencias significativas entre los grupos.\n"
     ]
    }
   ],
   "source": [
    "import pandas as pd\n",
    "from scipy import stats\n",
    "\n",
    "# Importa los datos desde el archivo CSV\n",
    "df = pd.read_csv('https://www.football-data.co.uk/new/ARG.csv')\n",
    "\n",
    "# Solicita al usuario ingresar los nombres de los equipos\n",
    "equipos = input(\"Ingresa los nombres de los equipos separados por comas: \")\n",
    "equipos = [equipo.strip() for equipo in equipos.split(',')]\n",
    "\n",
    "# Filtra los partidos para los equipos ingresados\n",
    "partidos_equipos = df[df['Home'].isin(equipos) | df['Away'].isin(equipos)]\n",
    "\n",
    "# Definimos los grupos para el ANOVA.\n",
    "grupos = []\n",
    "for equipo in equipos:\n",
    "    grupo_local = partidos_equipos[(partidos_equipos['Home'] == equipo)]['HG']\n",
    "    grupo_visitante = partidos_equipos[(partidos_equipos['Away'] == equipo)]['AG']\n",
    "    grupos.extend([grupo_local, grupo_visitante])\n",
    "\n",
    "# Realizamos el ANOVA para comparar los grupos.\n",
    "f_statistic, p_value = stats.f_oneway(*grupos)\n",
    "\n",
    "print(\"Estadística F:\", f_statistic)\n",
    "print(\"Valor p:\", p_value)\n",
    "\n",
    "if p_value < 0.05:\n",
    "    print(\"Hay diferencias significativas entre los grupos.\")\n",
    "else:\n",
    "    print(\"No hay diferencias significativas entre los grupos.\")"
   ]
  },
  {
   "cell_type": "code",
   "execution_count": null,
   "id": "6cb60cd5",
   "metadata": {},
   "outputs": [],
   "source": []
  }
 ],
 "metadata": {
  "kernelspec": {
   "display_name": "Python 3 (ipykernel)",
   "language": "python",
   "name": "python3"
  },
  "language_info": {
   "codemirror_mode": {
    "name": "ipython",
    "version": 3
   },
   "file_extension": ".py",
   "mimetype": "text/x-python",
   "name": "python",
   "nbconvert_exporter": "python",
   "pygments_lexer": "ipython3",
   "version": "3.11.4"
  }
 },
 "nbformat": 4,
 "nbformat_minor": 5
}
