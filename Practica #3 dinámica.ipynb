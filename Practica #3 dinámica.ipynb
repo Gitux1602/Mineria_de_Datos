{
 "cells": [
  {
   "cell_type": "code",
   "execution_count": 7,
   "id": "51ffa940",
   "metadata": {},
   "outputs": [
    {
     "name": "stdout",
     "output_type": "stream",
     "text": [
      "Ingresa los nombres de los equipos separados por comas: Boca Juniors, River Plate\n",
      "\n",
      "Estadísticas para Boca Juniors como equipo local:\n",
      "Media HG: 1.6649484536082475\n",
      "Moda HG: 1\n",
      "Mediana HG: 2.0\n",
      "Varianza HG: 1.6539981838577\n",
      "\n",
      "Estadísticas para Boca Juniors como equipo visitante:\n",
      "Media HG: 1.0161290322580645\n",
      "Moda HG: 1\n",
      "Mediana HG: 1.0\n",
      "Varianza HG: 1.053792502179597\n",
      "\n",
      "Estadísticas para River Plate como equipo local:\n",
      "Media HG: 1.7311827956989247\n",
      "Moda HG: 1\n",
      "Mediana HG: 1.5\n",
      "Varianza HG: 1.6246439988375467\n",
      "\n",
      "Estadísticas para River Plate como equipo visitante:\n",
      "Media HG: 0.9578947368421052\n",
      "Moda HG: 1\n",
      "Mediana HG: 1.0\n",
      "Varianza HG: 0.929434697855753\n"
     ]
    }
   ],
   "source": [
    "import pandas as pd\n",
    "\n",
    "# Importa los datos desde el archivo CSV\n",
    "df = pd.read_csv('https://www.football-data.co.uk/new/ARG.csv')\n",
    "\n",
    "def calcular_estadisticas_equipo(df, equipo, local=True):\n",
    "    if local:\n",
    "        partidos = df[df['Home'] == equipo]\n",
    "    else:\n",
    "        partidos = df[df['Away'] == equipo]\n",
    "\n",
    "    media_HG = partidos['HG'].mean()\n",
    "    moda_HG = partidos['HG'].mode()[0]\n",
    "    mediana_HG = partidos['HG'].median()\n",
    "    varianza_HG = partidos['HG'].var()\n",
    "\n",
    "    print(f\"\\nEstadísticas para {equipo} como {'equipo local' if local else 'equipo visitante'}:\")\n",
    "    print(f\"Media HG: {media_HG}\")\n",
    "    print(f\"Moda HG: {moda_HG}\")\n",
    "    print(f\"Mediana HG: {mediana_HG}\")\n",
    "    print(f\"Varianza HG: {varianza_HG}\")\n",
    "\n",
    "# Solicita al usuario ingresar los nombres de los equipos\n",
    "equipos = input(\"Ingresa los nombres de los equipos separados por comas: \")\n",
    "equipos = [equipo.strip() for equipo in equipos.split(',')]\n",
    "\n",
    "for equipo in equipos:\n",
    "    equipo = equipo.strip()\n",
    "    calcular_estadisticas_equipo(df, equipo, local=True)\n",
    "    calcular_estadisticas_equipo(df, equipo, local=False)"
   ]
  },
  {
   "cell_type": "code",
   "execution_count": null,
   "id": "f194484c",
   "metadata": {},
   "outputs": [],
   "source": []
  }
 ],
 "metadata": {
  "kernelspec": {
   "display_name": "Python 3 (ipykernel)",
   "language": "python",
   "name": "python3"
  },
  "language_info": {
   "codemirror_mode": {
    "name": "ipython",
    "version": 3
   },
   "file_extension": ".py",
   "mimetype": "text/x-python",
   "name": "python",
   "nbconvert_exporter": "python",
   "pygments_lexer": "ipython3",
   "version": "3.11.4"
  }
 },
 "nbformat": 4,
 "nbformat_minor": 5
}
