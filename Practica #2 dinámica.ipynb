{
 "cells": [
  {
   "cell_type": "code",
   "execution_count": 4,
   "id": "7820ff81",
   "metadata": {},
   "outputs": [
    {
     "name": "stdout",
     "output_type": "stream",
     "text": [
      "Ingresa el nombre del primer equipo: Boca Juniors\n",
      "Ingresa el nombre del segundo equipo: River Plate\n",
      "Country,League,Season,Date,Time,Home,Away,HG,AG,Res,PH,PD,PA,MaxH,MaxD,MaxA,AvgH,AvgD,AvgA\n",
      "Argentina,Liga Profesional ,2012/2013,28/10/2012,18:30,River Plate,Boca Juniors,2,2,D,2.35,3.1,3.6,2.36,3.25,3.75,2.23,3.07,3.27\n",
      "Argentina,Liga Profesional ,2012/2013,05/05/2013,20:30,Boca Juniors,River Plate,1,1,D,3.2,3.13,2.5,3.35,3.2,2.54,3.03,2.98,2.42\n",
      "Argentina,Liga Profesional ,2013/2014,06/10/2013,22:15,River Plate,Boca Juniors,0,1,A,2.31,3.06,3.77,2.35,3.06,3.85,2.21,2.98,3.44\n",
      "Argentina,Liga Profesional ,2013/2014,30/03/2014,22:15,Boca Juniors,River Plate,1,2,A,2.93,2.91,2.94,3.0,2.91,3.02,2.77,2.8,2.78\n",
      "Argentina,Liga Profesional ,2014,05/10/2014,21:15,River Plate,Boca Juniors,1,1,D,1.7,3.85,5.58,1.77,3.85,5.7,1.67,3.53,5.17\n",
      "Argentina,Liga Profesional ,2015,03/05/2015,22:15,Boca Juniors,River Plate,2,0,H,2.62,3.06,3.15,2.62,3.1,3.27,2.43,2.99,3.03\n",
      "Argentina,Liga Profesional ,2015,13/09/2015,22:15,River Plate,Boca Juniors,0,1,A,2.56,3.09,3.21,2.59,3.1,3.52,2.41,2.95,3.11\n",
      "Argentina,Liga Profesional ,2016,06/03/2016,20:00,River Plate,Boca Juniors,0,0,D,2.36,3.09,3.54,2.48,3.1,3.6,2.31,3.0,3.26\n",
      "Argentina,Liga Profesional ,2016,24/04/2016,20:15,Boca Juniors,River Plate,0,0,D,2.02,3.29,4.41,2.07,3.3,4.41,2.0,3.19,3.85\n",
      "Argentina,Liga Profesional ,2016/2017,11/12/2016,20:00,River Plate,Boca Juniors,2,4,A,2.77,3.02,3.0,2.79,3.1,3.07,2.63,2.96,2.82\n",
      "Argentina,Liga Profesional ,2016/2017,14/05/2017,21:00,Boca Juniors,River Plate,1,3,A,2.07,3.43,4.01,2.11,3.45,4.08,2.02,3.3,3.65\n",
      "Argentina,Liga Profesional,2017/2018,05/11/2017,21:05,River Plate,Boca Juniors,1,2,A,2.52,3.33,3.05,2.65,3.35,3.07,2.49,3.12,2.86\n",
      "Argentina,Liga Profesional,2018/2019,23/09/2018,21:45,Boca Juniors,River Plate,0,2,A,2.46,3.02,3.35,2.56,3.1,3.42,2.43,2.95,3.19\n",
      "Argentina,Liga Profesional,2019/2020,01/09/2019,21:00,River Plate,Boca Juniors,0,0,D,1.8,3.6,4.93,1.9,3.6,5.2,1.8,3.39,4.56\n",
      "Argentina,Copa de la Liga Profesional,2020,03/01/2021,00:30,Boca Juniors,River Plate,2,2,D,3.02,3.1,2.57,3.05,3.21,2.85,2.81,3.05,2.54\n",
      "Argentina,Copa de la Liga Profesional,2021,14/03/2021,21:00,Boca Juniors,River Plate,1,1,D,3.06,3.11,2.52,3.09,3.39,2.66,2.9,3.07,2.44\n",
      "Argentina,Copa de la Liga Profesional,2021,16/05/2021,21:30,Boca Juniors,River Plate,1,1,D,1.73,3.72,4.76,1.92,3.72,5.15,1.83,3.44,4.11\n",
      "Argentina,Liga Profesional,2021,03/10/2021,21:00,River Plate,Boca Juniors,2,1,H,2.24,3.19,3.66,2.4,3.2,3.69,2.28,3.01,3.35\n",
      "Argentina,Copa de la Liga Profesional,2022,20/03/2022,22:00,River Plate,Boca Juniors,0,1,A,1.84,3.43,4.98,1.96,3.48,4.98,1.86,3.19,4.46\n",
      "Argentina,Liga Profesional,2022,11/09/2022,21:00,Boca Juniors,River Plate,1,0,H,3.68,3.03,2.31,3.75,3.18,2.35,3.47,3.0,2.27\n",
      "Argentina,Liga Profesional,2023,07/05/2023,21:30,River Plate,Boca Juniors,1,0,H,1.64,4.06,5.52,1.75,4.25,5.8,1.65,3.79,5.19\n",
      "Argentina,Copa De La Liga Profesional,2023,01/10/2023,18:00,Boca Juniors,River Plate,0,2,A,4.41,3.3,1.98,4.59,3.34,2.14,4.12,3.21,1.94\n",
      "\n"
     ]
    }
   ],
   "source": [
    "import pandas as pd\n",
    "\n",
    "# Importa los datos desde el archivo CSV\n",
    "df = pd.read_csv('https://www.football-data.co.uk/new/ARG.csv')\n",
    "\n",
    "# Solicita al usuario ingresar los nombres de los equipos\n",
    "equipo1 = input(\"Ingresa el nombre del primer equipo: \")\n",
    "equipo2 = input(\"Ingresa el nombre del segundo equipo: \")\n",
    "\n",
    "# Filtra los partidos para los equipos ingresados\n",
    "partidos_equipos = df[(df['Home'] == equipo1) & (df['Away'] == equipo2) | (df['Home'] == equipo2) & (df['Away'] == equipo1)]\n",
    "\n",
    "# Guarda los datos filtrados en un archivo CSV\n",
    "partidos_equipos.to_csv('partidos.csv', index=False)"
   ]
  },
  {
   "cell_type": "code",
   "execution_count": null,
   "id": "57259e5e",
   "metadata": {},
   "outputs": [],
   "source": []
  }
 ],
 "metadata": {
  "kernelspec": {
   "display_name": "Python 3 (ipykernel)",
   "language": "python",
   "name": "python3"
  },
  "language_info": {
   "codemirror_mode": {
    "name": "ipython",
    "version": 3
   },
   "file_extension": ".py",
   "mimetype": "text/x-python",
   "name": "python",
   "nbconvert_exporter": "python",
   "pygments_lexer": "ipython3",
   "version": "3.11.4"
  }
 },
 "nbformat": 4,
 "nbformat_minor": 5
}
